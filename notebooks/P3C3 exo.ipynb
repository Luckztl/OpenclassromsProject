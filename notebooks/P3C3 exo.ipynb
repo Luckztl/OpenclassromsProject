{
  "cells": [
    {
      "cell_type": "markdown",
      "metadata": {
        "id": "MVEItiGgRzre"
      },
      "source": [
        "![openclassrooms](https://s3.eu-west-1.amazonaws.com/course.oc-static.com/courses/6204541/1+HnqdJ-5ofxiPP9HIxdNdpw.jpeg)\n",
        "\n",
        "# Initiez-vous à Python pour l'analyse de données\n",
        "\n",
        "## Choisissez la boucle adéquate\n",
        "\n",
        "<br><br>\n",
        "\n",
        "**La boucle WHILE : “bouclez” selon une condition**\n",
        "\n",
        "Créez une boucle `for` qui va afficher : 'OpenClassRooms est vraiment top !' 5 fois"
      ]
    },
    {
      "cell_type": "code",
      "execution_count": 1,
      "metadata": {
        "id": "T0O-h-gCRzrk",
        "outputId": "074f0de8-22e9-44f0-9129-156a0a882211",
        "colab": {
          "base_uri": "https://localhost:8080/"
        }
      },
      "outputs": [
        {
          "output_type": "stream",
          "name": "stdout",
          "text": [
            "OpenClassRooms est vraiment top!\n",
            "OpenClassRooms est vraiment top!\n",
            "OpenClassRooms est vraiment top!\n",
            "OpenClassRooms est vraiment top!\n",
            "OpenClassRooms est vraiment top!\n"
          ]
        }
      ],
      "source": [
        "for OpenClassrooms in range(5):\n",
        "  print(\"OpenClassRooms est vraiment top!\")"
      ]
    },
    {
      "cell_type": "markdown",
      "metadata": {
        "id": "3ucOPnO9Rzrk"
      },
      "source": [
        "Changez votre boucle `for` par une boucle `while` :"
      ]
    },
    {
      "cell_type": "code",
      "execution_count": 2,
      "metadata": {
        "id": "AtQq41R8Rzrl",
        "outputId": "686c876f-1227-4592-dcca-e79cb691db6b",
        "colab": {
          "base_uri": "https://localhost:8080/"
        }
      },
      "outputs": [
        {
          "output_type": "stream",
          "name": "stdout",
          "text": [
            "OpenClassRooms est vraiment top!\n"
          ]
        }
      ],
      "source": [
        "while OpenClassrooms < 5:\n",
        "  OpenClassrooms += 1\n",
        "  print(\"OpenClassRooms est vraiment top!\")"
      ]
    }
  ],
  "metadata": {
    "kernelspec": {
      "display_name": "Python 3",
      "language": "python",
      "name": "python3"
    },
    "language_info": {
      "codemirror_mode": {
        "name": "ipython",
        "version": 3
      },
      "file_extension": ".py",
      "mimetype": "text/x-python",
      "name": "python",
      "nbconvert_exporter": "python",
      "pygments_lexer": "ipython3",
      "version": "3.8.5"
    },
    "colab": {
      "provenance": []
    }
  },
  "nbformat": 4,
  "nbformat_minor": 0
}