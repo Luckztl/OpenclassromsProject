{
  "cells": [
    {
      "cell_type": "markdown",
      "metadata": {
        "id": "nFL2j68XLnZ8"
      },
      "source": [
        "![openclassrooms](https://s3.eu-west-1.amazonaws.com/course.oc-static.com/courses/6204541/1+HnqdJ-5ofxiPP9HIxdNdpw.jpeg)\n",
        "\n",
        "# Initiez-vous à Python pour l'analyse de données\n",
        "\n",
        "## Créez des tableaux pour stocker vos variables\n",
        "\n",
        "<br><br>\n",
        "\n",
        "**Ajouter des éléments à une liste**\n",
        "\n",
        "Remplacez les **??** par le code adéquat pour créer une liste vide :"
      ]
    },
    {
      "cell_type": "code",
      "execution_count": 1,
      "metadata": {
        "id": "nbSU5bbnLnaC"
      },
      "outputs": [],
      "source": [
        "invites = []"
      ]
    },
    {
      "cell_type": "markdown",
      "metadata": {
        "id": "tLvfsK9sLnaE"
      },
      "source": [
        "Ajoutez 3 invités à la liste : Joey, Martin et Marie"
      ]
    },
    {
      "cell_type": "code",
      "execution_count": 3,
      "metadata": {
        "id": "sXC5_FPCLnaE"
      },
      "outputs": [],
      "source": [
        "invites.append('Joey')\n",
        "invites.append('Martin')\n",
        "invites.append('Marie')"
      ]
    },
    {
      "cell_type": "markdown",
      "metadata": {
        "id": "HXq4GtxKLnaF"
      },
      "source": [
        "Affichez la taille de la liste :"
      ]
    },
    {
      "cell_type": "code",
      "execution_count": 4,
      "metadata": {
        "id": "clL2kbdALnaF",
        "outputId": "bf959a1b-2258-40b7-d5bd-6b0f60cadf6a",
        "colab": {
          "base_uri": "https://localhost:8080/"
        }
      },
      "outputs": [
        {
          "output_type": "execute_result",
          "data": {
            "text/plain": [
              "3"
            ]
          },
          "metadata": {},
          "execution_count": 4
        }
      ],
      "source": [
        "len(invites)"
      ]
    },
    {
      "cell_type": "markdown",
      "metadata": {
        "id": "5g8k4nt_LnaF"
      },
      "source": [
        "Remplacez Martin par John dans la liste :"
      ]
    },
    {
      "cell_type": "code",
      "execution_count": 5,
      "metadata": {
        "id": "1t--wc1wLnaG"
      },
      "outputs": [],
      "source": [
        "invites[1] = 'John'"
      ]
    },
    {
      "cell_type": "markdown",
      "metadata": {
        "id": "B1oc2xkKLnaG"
      },
      "source": [
        "Supprimez Joey de la liste :"
      ]
    },
    {
      "cell_type": "code",
      "execution_count": 7,
      "metadata": {
        "id": "DIMCxsu-LnaH"
      },
      "outputs": [],
      "source": [
        "invites.remove('Joey')"
      ]
    },
    {
      "cell_type": "markdown",
      "metadata": {
        "id": "O14TwuE9LnaH"
      },
      "source": [
        "Affichez le contenu de la liste :"
      ]
    },
    {
      "cell_type": "code",
      "execution_count": 8,
      "metadata": {
        "id": "Yk9TSV0aLnaH",
        "outputId": "a793a941-ebeb-4491-875e-2fa152c5a573",
        "colab": {
          "base_uri": "https://localhost:8080/"
        }
      },
      "outputs": [
        {
          "output_type": "stream",
          "name": "stdout",
          "text": [
            "John\n",
            "Marie\n"
          ]
        }
      ],
      "source": [
        "for invite in invites :\n",
        "    print(invite)"
      ]
    }
  ],
  "metadata": {
    "kernelspec": {
      "display_name": "Python 3",
      "language": "python",
      "name": "python3"
    },
    "language_info": {
      "codemirror_mode": {
        "name": "ipython",
        "version": 3
      },
      "file_extension": ".py",
      "mimetype": "text/x-python",
      "name": "python",
      "nbconvert_exporter": "python",
      "pygments_lexer": "ipython3",
      "version": "3.8.5"
    },
    "colab": {
      "provenance": []
    }
  },
  "nbformat": 4,
  "nbformat_minor": 0
}