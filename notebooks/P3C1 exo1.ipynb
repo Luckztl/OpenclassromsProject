{
  "cells": [
    {
      "cell_type": "markdown",
      "metadata": {
        "id": "mBf34865Knho"
      },
      "source": [
        "![openclassrooms](https://s3.eu-west-1.amazonaws.com/course.oc-static.com/courses/6204541/1+HnqdJ-5ofxiPP9HIxdNdpw.jpeg)\n",
        "\n",
        "# Initiez-vous à Python pour l'analyse de données\n",
        "\n",
        "## Créez des tableaux pour stocker vos variables\n",
        "\n",
        "<br><br>\n",
        "\n",
        "**Une liste pour les gouverner tous**\n",
        "\n",
        "Déclarez une liste `couleurs` contenant 5 éléments : `rouge`, `jaune`, `orange`, `vert` et `bleu`."
      ]
    },
    {
      "cell_type": "code",
      "execution_count": 1,
      "metadata": {
        "id": "_1Qd3gERKnhv"
      },
      "outputs": [],
      "source": [
        "couleurs = ['rouge','jaune','orange','vert','bleu']"
      ]
    },
    {
      "cell_type": "markdown",
      "metadata": {
        "id": "dlTLP0-5Knhx"
      },
      "source": [
        "Remplacez la couleur `vert` par `émeraude` :"
      ]
    },
    {
      "cell_type": "code",
      "execution_count": 4,
      "metadata": {
        "id": "K9i6d2ACKnhy"
      },
      "outputs": [],
      "source": [
        "couleurs[3] = 'émeraude'"
      ]
    },
    {
      "cell_type": "markdown",
      "metadata": {
        "id": "-Dbrfb9vKnhy"
      },
      "source": [
        "Affichez le contenu de la liste :"
      ]
    },
    {
      "cell_type": "code",
      "execution_count": 5,
      "metadata": {
        "id": "yYff05MIKnhz",
        "outputId": "1d94471b-1dc5-455c-efee-cc4bf1d686c7",
        "colab": {
          "base_uri": "https://localhost:8080/"
        }
      },
      "outputs": [
        {
          "output_type": "stream",
          "name": "stdout",
          "text": [
            "rouge\n",
            "jaune\n",
            "orange\n",
            "émeraude\n",
            "bleu\n"
          ]
        }
      ],
      "source": [
        "for couleur in couleurs :\n",
        "    print(couleur)"
      ]
    }
  ],
  "metadata": {
    "kernelspec": {
      "display_name": "Python 3",
      "language": "python",
      "name": "python3"
    },
    "language_info": {
      "codemirror_mode": {
        "name": "ipython",
        "version": 3
      },
      "file_extension": ".py",
      "mimetype": "text/x-python",
      "name": "python",
      "nbconvert_exporter": "python",
      "pygments_lexer": "ipython3",
      "version": "3.8.5"
    },
    "colab": {
      "provenance": []
    }
  },
  "nbformat": 4,
  "nbformat_minor": 0
}